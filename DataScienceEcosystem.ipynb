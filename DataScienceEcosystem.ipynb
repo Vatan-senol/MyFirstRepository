{
 "cells": [
  {
   "cell_type": "markdown",
   "id": "d3c007fc-a23c-431c-8287-448312390f26",
   "metadata": {},
   "source": [
    "# Data Science Tools and Ecosystem"
   ]
  },
  {
   "cell_type": "markdown",
   "id": "0123924b-26f1-45fd-b38a-475fbb5eccf4",
   "metadata": {},
   "source": [
    "In this notebook , Data Science Tools and Ecosystem are summarized."
   ]
  },
  {
   "cell_type": "markdown",
   "id": "38771d6d-3b04-4cf8-82da-741fbad5ac9a",
   "metadata": {},
   "source": [
    "## Some of popular languages that Data Scientists use are:"
   ]
  },
  {
   "cell_type": "markdown",
   "id": "993945b2-7614-4fd4-86d5-a956d5c21a59",
   "metadata": {},
   "source": [
    "1.Python\n",
    "2.R\n",
    "3.Sql\n",
    "4.Java\n",
    "5.Julia"
   ]
  },
  {
   "cell_type": "markdown",
   "id": "4b674e1f-faf0-4b24-b46a-bb486d4d7adb",
   "metadata": {},
   "source": [
    "## Some of the commonly used libraries used by Data Scientistsinclude:"
   ]
  },
  {
   "cell_type": "markdown",
   "id": "cf01f45e-dbd9-48de-a45b-2386aefc38f2",
   "metadata": {},
   "source": [
    "1.Numpy      * Numeric Calculations *\n",
    "2.Pandas     * Working with DataFrame\n",
    "3.Matplotlib * Working with graphical drawing \n",
    "4.Plotly     * Interactive graphs , web based graphs"
   ]
  },
  {
   "cell_type": "markdown",
   "id": "1d9aed72-6d33-4efb-9646-e2adc6915a2e",
   "metadata": {},
   "source": [
    "## Data Science Tools"
   ]
  },
  {
   "cell_type": "markdown",
   "id": "8260693e-41e7-4fe5-870f-c3fdff7ef073",
   "metadata": {},
   "source": [
    "| Data Science Tools         |\n",
    "|----------------------------|\n",
    "| Jupyter Notebook           |\n",
    "| RStudio                    |\n",
    "| Apache Zeppelin            |"
   ]
  },
  {
   "cell_type": "markdown",
   "id": "e992301d-6925-48ee-9678-ec1b8b197bc1",
   "metadata": {},
   "source": [
    "### Below are a few examples of evaluating arithmetic expressions in Python.\n"
   ]
  },
  {
   "cell_type": "code",
   "execution_count": 5,
   "id": "7d293b62-9a69-45c6-86e6-6b83ab7f64a0",
   "metadata": {},
   "outputs": [
    {
     "data": {
      "text/plain": [
       "17"
      ]
     },
     "execution_count": 5,
     "metadata": {},
     "output_type": "execute_result"
    }
   ],
   "source": [
    "(3*4)+5"
   ]
  },
  {
   "cell_type": "markdown",
   "id": "cb5a862f-e7c4-4a1a-a717-b476497672b8",
   "metadata": {},
   "source": [
    "##### This a simple arithmetic expression to mutiply then add integers."
   ]
  },
  {
   "cell_type": "code",
   "execution_count": 13,
   "id": "6ad4357f-790d-4a13-a8c7-870c3cab27ba",
   "metadata": {},
   "outputs": [
    {
     "name": "stdout",
     "output_type": "stream",
     "text": [
      "hour= 3\n",
      "minute= 20\n",
      "200 minute= 3 hour  20 minute\n"
     ]
    }
   ],
   "source": [
    "m=200\n",
    "h=m/60\n",
    "h=int(h)\n",
    "mh=m-60*h\n",
    "print(\"hour=\",h)\n",
    "print(\"minute=\",mh)\n",
    "print(m,\"minute=\",h,\"hour \",mh,\"minute\")"
   ]
  },
  {
   "cell_type": "markdown",
   "id": "8077132b-a534-4c7a-9ef9-7e08fca09199",
   "metadata": {},
   "source": [
    "##### This will convert 200 minutes to hours by diving by 60."
   ]
  },
  {
   "cell_type": "markdown",
   "id": "114ef46c-a327-40f2-9ac9-a1a5f794ac86",
   "metadata": {},
   "source": [
    "**Objectives:**\n",
    "\n",
    "- List popular languages for Data Science  \n",
    "- Understand the basics of Python syntax  \n",
    "- Use Jupyter Notebooks for data analysis  \n",
    "- Write and run arithmetic expressions  \n",
    "- Create and format Markdown cells\n"
   ]
  },
  {
   "cell_type": "markdown",
   "id": "f1fb1fb3-4e72-441d-a690-7d16ecb3b0c9",
   "metadata": {},
   "source": [
    "## Author\n",
    "\n",
    "Vatan ŞENOL\n"
   ]
  },
  {
   "cell_type": "code",
   "execution_count": null,
   "id": "8674270f-be1b-42cb-b94d-59ee666ebf8c",
   "metadata": {},
   "outputs": [],
   "source": []
  }
 ],
 "metadata": {
  "kernelspec": {
   "display_name": "Python 3 (ipykernel)",
   "language": "python",
   "name": "python3"
  },
  "language_info": {
   "codemirror_mode": {
    "name": "ipython",
    "version": 3
   },
   "file_extension": ".py",
   "mimetype": "text/x-python",
   "name": "python",
   "nbconvert_exporter": "python",
   "pygments_lexer": "ipython3",
   "version": "3.12.7"
  }
 },
 "nbformat": 4,
 "nbformat_minor": 5
}
